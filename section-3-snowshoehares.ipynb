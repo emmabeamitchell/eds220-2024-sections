{
 "cells": [
  {
   "cell_type": "markdown",
   "id": "a7b650db-5c36-4a08-92c1-9513253e8a2d",
   "metadata": {},
   "source": [
    "# Week 3 Section\n",
    "\n",
    "10/17/2024"
   ]
  },
  {
   "cell_type": "markdown",
   "id": "e4ebd6d5-4068-44dd-9dc2-a0891ea3622b",
   "metadata": {},
   "source": [
    "This dataset is about the density of snowshoe hares in Alaska. It has information on when/where the data was collected as well as information about the trapped hare"
   ]
  },
  {
   "cell_type": "markdown",
   "id": "b6debaa2-4216-45a0-8e31-7f9395f96e41",
   "metadata": {},
   "source": [
    "![snowshoe hare](https://upload.wikimedia.org/wikipedia/commons/thumb/8/8a/SNOWSHOE_HARE_%28Lepus_americanus%29_%285-28-2015%29_quoddy_head%2C_washington_co%2C_maine_-01_%2818988734889%29.jpg/1089px-SNOWSHOE_HARE_%28Lepus_americanus%29_%285-28-2015%29_quoddy_head%2C_washington_co%2C_maine_-01_%2818988734889%29.jpg?20170313021652)"
   ]
  },
  {
   "cell_type": "code",
   "execution_count": 1,
   "id": "100579db-2603-45ca-a58d-73f9da50b03a",
   "metadata": {
    "tags": []
   },
   "outputs": [],
   "source": [
    "import pandas as pd\n",
    "import numpy as np"
   ]
  },
  {
   "cell_type": "code",
   "execution_count": 10,
   "id": "06a95132-5220-452f-96ef-c5107734b167",
   "metadata": {
    "tags": []
   },
   "outputs": [],
   "source": [
    "hares = pd.read_csv(\"https://portal.edirepository.org/nis/dataviewer?packageid=knb-lter-bnz.55.22&entityid=f01f5d71be949b8c700b6ecd1c42c701\")"
   ]
  },
  {
   "cell_type": "code",
   "execution_count": 14,
   "id": "38cedeff-fece-41af-9815-91eab334af47",
   "metadata": {
    "tags": []
   },
   "outputs": [
    {
     "data": {
      "text/plain": [
       "(3380, 14)"
      ]
     },
     "execution_count": 14,
     "metadata": {},
     "output_type": "execute_result"
    }
   ],
   "source": [
    "hares.shape"
   ]
  },
  {
   "cell_type": "code",
   "execution_count": 15,
   "id": "38e3f254-902c-41ba-9283-280941f0f81e",
   "metadata": {
    "tags": []
   },
   "outputs": [
    {
     "data": {
      "text/plain": [
       "Index(['date', 'time', 'grid', 'trap', 'l_ear', 'r_ear', 'sex', 'age',\n",
       "       'weight', 'hindft', 'notes', 'b_key', 'session_id', 'study'],\n",
       "      dtype='object')"
      ]
     },
     "execution_count": 15,
     "metadata": {},
     "output_type": "execute_result"
    }
   ],
   "source": [
    "hares.columns"
   ]
  },
  {
   "cell_type": "code",
   "execution_count": 17,
   "id": "c06ee12d-35da-4729-b71e-152e57494621",
   "metadata": {
    "tags": []
   },
   "outputs": [
    {
     "data": {
      "text/plain": [
       "array([False, False, False, False, False, False, False, False, False,\n",
       "       False, False, False, False, False])"
      ]
     },
     "execution_count": 17,
     "metadata": {},
     "output_type": "execute_result"
    }
   ],
   "source": [
    "hares.columns.isnull()"
   ]
  },
  {
   "cell_type": "code",
   "execution_count": 25,
   "id": "620f355e-0d9a-48e9-a6da-04b02cfb25e6",
   "metadata": {
    "tags": []
   },
   "outputs": [
    {
     "data": {
      "text/plain": [
       "160.0"
      ]
     },
     "execution_count": 25,
     "metadata": {},
     "output_type": "execute_result"
    }
   ],
   "source": [
    "hares.hindft.max()"
   ]
  },
  {
   "cell_type": "code",
   "execution_count": 24,
   "id": "53ac0968-362c-4882-a142-723fa744656e",
   "metadata": {
    "tags": []
   },
   "outputs": [
    {
     "data": {
      "text/plain": [
       "60.0"
      ]
     },
     "execution_count": 24,
     "metadata": {},
     "output_type": "execute_result"
    }
   ],
   "source": [
    "hares.hindft.min()"
   ]
  },
  {
   "cell_type": "code",
   "execution_count": 23,
   "id": "8ccc9006-b2b7-4de3-b027-287ca228e867",
   "metadata": {
    "tags": []
   },
   "outputs": [
    {
     "data": {
      "text/plain": [
       "0.0"
      ]
     },
     "execution_count": 23,
     "metadata": {},
     "output_type": "execute_result"
    }
   ],
   "source": [
    "hares.weight.min()"
   ]
  },
  {
   "cell_type": "code",
   "execution_count": 22,
   "id": "056d90f5-cab1-4413-8069-4cd33e2646b3",
   "metadata": {
    "tags": []
   },
   "outputs": [
    {
     "data": {
      "text/plain": [
       "2365.0"
      ]
     },
     "execution_count": 22,
     "metadata": {},
     "output_type": "execute_result"
    }
   ],
   "source": [
    "hares.weight.max()"
   ]
  },
  {
   "cell_type": "code",
   "execution_count": 28,
   "id": "56eefdf2-41df-4f46-aeba-69a5d60d675d",
   "metadata": {
    "tags": []
   },
   "outputs": [
    {
     "data": {
      "text/plain": [
       "array(['Population', 'Collar', nan, 'Metabolic', 'Metabolic/Collar'],\n",
       "      dtype=object)"
      ]
     },
     "execution_count": 28,
     "metadata": {},
     "output_type": "execute_result"
    }
   ],
   "source": [
    "hares['study'].unique()"
   ]
  },
  {
   "cell_type": "code",
   "execution_count": null,
   "id": "99616af2-aebe-495d-8f97-0220d00721fe",
   "metadata": {},
   "outputs": [],
   "source": []
  }
 ],
 "metadata": {
  "kernelspec": {
   "display_name": "Anaconda 3 (Base)",
   "language": "python",
   "name": "base"
  },
  "language_info": {
   "codemirror_mode": {
    "name": "ipython",
    "version": 3
   },
   "file_extension": ".py",
   "mimetype": "text/x-python",
   "name": "python",
   "nbconvert_exporter": "python",
   "pygments_lexer": "ipython3",
   "version": "3.9.13"
  }
 },
 "nbformat": 4,
 "nbformat_minor": 5
}
